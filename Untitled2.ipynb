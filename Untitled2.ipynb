{
  "nbformat": 4,
  "nbformat_minor": 0,
  "metadata": {
    "colab": {
      "provenance": [],
      "authorship_tag": "ABX9TyNSYPs2qLHf7KuJU+BreRti",
      "include_colab_link": true
    },
    "kernelspec": {
      "name": "python3",
      "display_name": "Python 3"
    },
    "language_info": {
      "name": "python"
    }
  },
  "cells": [
    {
      "cell_type": "markdown",
      "metadata": {
        "id": "view-in-github",
        "colab_type": "text"
      },
      "source": [
        "<a href=\"https://colab.research.google.com/github/IkerZha0401/QM2_Final_PJ/blob/main/Untitled2.ipynb\" target=\"_parent\"><img src=\"https://colab.research.google.com/assets/colab-badge.svg\" alt=\"Open In Colab\"/></a>"
      ]
    },
    {
      "cell_type": "markdown",
      "source": [
        "Cleaning downloaded raw dataset from ACLED database, which should be contained lots of info like time series data, data of geographical info, category of events and actors and impacts of the events. We'll try to break it down to small pieces which we can directly use them on analysis."
      ],
      "metadata": {
        "id": "6FRqFjRsmcTY"
      }
    },
    {
      "cell_type": "code",
      "execution_count": 23,
      "metadata": {
        "colab": {
          "base_uri": "https://localhost:8080/"
        },
        "id": "BFHuT_t1mTvf",
        "outputId": "d3c36682-87f4-4756-d861-dd756c1c5e0d"
      },
      "outputs": [
        {
          "output_type": "stream",
          "name": "stdout",
          "text": [
            "Dataset Preview:\n",
            "  event_id_cnty       event_date  year  time_precision   disorder_type  \\\n",
            "0       IRN6075  31 January 2020  2020               1  Demonstrations   \n",
            "1       ALG8120  31 January 2020  2020               1  Demonstrations   \n",
            "2       ALG8123  31 January 2020  2020               1  Demonstrations   \n",
            "3       ALG8124  31 January 2020  2020               1  Demonstrations   \n",
            "4       ALG8126  31 January 2020  2020               1  Demonstrations   \n",
            "\n",
            "  event_type    sub_event_type                actor1 assoc_actor_1  inter1  \\\n",
            "0   Protests  Peaceful protest     Protesters (Iran)           NaN       6   \n",
            "1   Protests  Peaceful protest  Protesters (Algeria)           NaN       6   \n",
            "2   Protests  Peaceful protest  Protesters (Algeria)           NaN       6   \n",
            "3   Protests  Peaceful protest  Protesters (Algeria)           NaN       6   \n",
            "4   Protests  Peaceful protest  Protesters (Algeria)           NaN       6   \n",
            "\n",
            "   ... latitude longitude  geo_precision  \\\n",
            "0  ...  32.6525   51.6746              2   \n",
            "1  ...  36.7500    5.0833              1   \n",
            "2  ...  36.3800    3.9014              1   \n",
            "3  ...  36.7664    3.4772              1   \n",
            "4  ...  36.3650    6.6147              1   \n",
            "\n",
            "                                  source source_scale  \\\n",
            "0                          Eteraze Bazar    New media   \n",
            "1  Liberte (Algeria); El Watan (Algeria)     National   \n",
            "2   Le Soir d'Algerie; Liberte (Algeria)     National   \n",
            "3  El Watan (Algeria); Le Soir d'Algerie     National   \n",
            "4  El Watan (Algeria); Liberte (Algeria)     National   \n",
            "\n",
            "                                               notes fatalities  \\\n",
            "0  On 31 January 2020, a group of environmental a...          0   \n",
            "1  On 31 January 2020, tens of thousands ofprotes...          0   \n",
            "2  On 31 January 2020, protesters held the 50th c...          0   \n",
            "3  On 31 January 2020, masses of protesters held ...          0   \n",
            "4  On 31 January 2020, masses of protesters held ...          0   \n",
            "\n",
            "                           tags   timestamp population_best  \n",
            "0          crowd size=no report  1580753124         44981.0  \n",
            "1  crowd size=tens of thousands  1580773138          6531.0  \n",
            "2          crowd size=no report  1580773138         14128.0  \n",
            "3             crowd size=masses  1580773138          9223.0  \n",
            "4             crowd size=masses  1580773138         12622.0  \n",
            "\n",
            "[5 rows x 32 columns]\n",
            "\n",
            "Dataset Info:\n",
            "<class 'pandas.core.frame.DataFrame'>\n",
            "RangeIndex: 52685 entries, 0 to 52684\n",
            "Data columns (total 32 columns):\n",
            " #   Column              Non-Null Count  Dtype  \n",
            "---  ------              --------------  -----  \n",
            " 0   event_id_cnty       52685 non-null  object \n",
            " 1   event_date          52685 non-null  object \n",
            " 2   year                52685 non-null  int64  \n",
            " 3   time_precision      52685 non-null  int64  \n",
            " 4   disorder_type       52685 non-null  object \n",
            " 5   event_type          52685 non-null  object \n",
            " 6   sub_event_type      52685 non-null  object \n",
            " 7   actor1              52685 non-null  object \n",
            " 8   assoc_actor_1       30626 non-null  object \n",
            " 9   inter1              52685 non-null  int64  \n",
            " 10  actor2              5687 non-null   object \n",
            " 11  assoc_actor_2       564 non-null    object \n",
            " 12  inter2              52685 non-null  int64  \n",
            " 13  interaction         52685 non-null  int64  \n",
            " 14  civilian_targeting  1342 non-null   object \n",
            " 15  iso                 52685 non-null  int64  \n",
            " 16  region              52685 non-null  object \n",
            " 17  country             52685 non-null  object \n",
            " 18  admin1              52685 non-null  object \n",
            " 19  admin2              46255 non-null  object \n",
            " 20  admin3              15015 non-null  object \n",
            " 21  location            52685 non-null  object \n",
            " 22  latitude            52685 non-null  float64\n",
            " 23  longitude           52685 non-null  float64\n",
            " 24  geo_precision       52685 non-null  int64  \n",
            " 25  source              52685 non-null  object \n",
            " 26  source_scale        52685 non-null  object \n",
            " 27  notes               52685 non-null  object \n",
            " 28  fatalities          52685 non-null  int64  \n",
            " 29  tags                28907 non-null  object \n",
            " 30  timestamp           52685 non-null  int64  \n",
            " 31  population_best     1681 non-null   float64\n",
            "dtypes: float64(3), int64(9), object(20)\n",
            "memory usage: 12.9+ MB\n",
            "None\n"
          ]
        }
      ],
      "source": [
        "import pandas as pd\n",
        "from datetime import datetime\n",
        "import os\n",
        "from google.colab import files\n",
        "import requests\n",
        "\n",
        "def download_and_process_data(url):\n",
        "  filename = os.path.basename(url)\n",
        "  response = requests.get(url)\n",
        "\n",
        "  with open(filename, 'wb') as file:\n",
        "      file.write(response.content)\n",
        "\n",
        "  try:\n",
        "    df = pd.read_csv(filename, sep=',', encoding='utf-8')\n",
        "  except pd.errors.ParserError:\n",
        "    df = pd.read_csv(filename, sep=';', encoding='utf-8')\n",
        "  except UnicodeDecodeError:\n",
        "    df = pd.read_csv(filename, sep=',', encoding='ISO-8859-1')\n",
        "\n",
        "  return df\n",
        "\n",
        "url = \"https://raw.githubusercontent.com/IkerZha0401/QM2_Final_PJ/refs/heads/main/2005-01-01-2020-01-31-Middle_East-Northern_Africa.csv\"\n",
        "df = download_and_process_data(url)\n",
        "\n",
        "print(\"Dataset Preview:\")\n",
        "print(df.head())\n",
        "print(\"\\nDataset Info:\")\n",
        "print(df.info())\n",
        "\n",
        "\n"
      ]
    },
    {
      "cell_type": "markdown",
      "source": [
        "Now we can access the dataset and we start cleaning it until it give us dataset we want.\n"
      ],
      "metadata": {
        "id": "vrcFjiHqtY8H"
      }
    },
    {
      "cell_type": "code",
      "source": [
        "print(\"Data Columns:\")\n",
        "print(df.columns)\n",
        "\n"
      ],
      "metadata": {
        "colab": {
          "base_uri": "https://localhost:8080/"
        },
        "id": "aRMjswXXthUa",
        "outputId": "5aa899c9-c599-452e-a9f5-fa1774ac2d13"
      },
      "execution_count": 2,
      "outputs": [
        {
          "output_type": "stream",
          "name": "stdout",
          "text": [
            "Data Columns:\n",
            "Index(['event_id_cnty', 'event_date', 'year', 'time_precision',\n",
            "       'disorder_type', 'event_type', 'sub_event_type', 'actor1',\n",
            "       'assoc_actor_1', 'inter1', 'actor2', 'assoc_actor_2', 'inter2',\n",
            "       'interaction', 'civilian_targeting', 'iso', 'region', 'country',\n",
            "       'admin1', 'admin2', 'admin3', 'location', 'latitude', 'longitude',\n",
            "       'geo_precision', 'source', 'source_scale', 'notes', 'fatalities',\n",
            "       'tags', 'timestamp', 'population_best'],\n",
            "      dtype='object')\n"
          ]
        }
      ]
    },
    {
      "cell_type": "code",
      "source": [
        "selected_columns = ['event_id_cnty', 'event_date', 'year', 'country', 'latitude', 'longitude']\n",
        "df_selected = df[selected_columns]\n",
        "print(df_selected.head())"
      ],
      "metadata": {
        "colab": {
          "base_uri": "https://localhost:8080/"
        },
        "id": "385q9wK6yCwd",
        "outputId": "f21afa2a-8220-4cd5-f6f9-6ba50e945f2f"
      },
      "execution_count": 6,
      "outputs": [
        {
          "output_type": "stream",
          "name": "stdout",
          "text": [
            "  event_id_cnty event_date  year  country  latitude  longitude\n",
            "0       IRN6075        NaT   NaN     Iran   32.6525    51.6746\n",
            "1       ALG8120        NaT   NaN  Algeria   36.7500     5.0833\n",
            "2       ALG8123        NaT   NaN  Algeria   36.3800     3.9014\n",
            "3       ALG8124        NaT   NaN  Algeria   36.7664     3.4772\n",
            "4       ALG8126        NaT   NaN  Algeria   36.3650     6.6147\n"
          ]
        }
      ]
    },
    {
      "cell_type": "code",
      "source": [
        "print(df[['event_date','year']].dtypes)\n",
        "print(\"Missing values in event_date:\", df['event_date'].isnull().sum())\n",
        "print(\"Missing values in year:\", df['year'].isnull().sum())"
      ],
      "metadata": {
        "colab": {
          "base_uri": "https://localhost:8080/"
        },
        "id": "PxVB6h5O6BzX",
        "outputId": "8a851a5d-d6e5-4945-8bcc-c6eb810dc734"
      },
      "execution_count": 16,
      "outputs": [
        {
          "output_type": "stream",
          "name": "stdout",
          "text": [
            "event_date    datetime64[ns]\n",
            "year                 float64\n",
            "dtype: object\n",
            "Missing values in event_date: 52685\n",
            "Missing values in year: 52685\n"
          ]
        }
      ]
    },
    {
      "cell_type": "code",
      "source": [
        "df = download_and_process_data(url,sep=';',encoding='utf-8', low_memory=False)\n",
        "print(df['event_date'].head(20))\n"
      ],
      "metadata": {
        "colab": {
          "base_uri": "https://localhost:8080/",
          "height": 163
        },
        "id": "uA1W4uvTbn4I",
        "outputId": "0679299d-85f9-4518-e53e-46a047ea4155"
      },
      "execution_count": 22,
      "outputs": [
        {
          "output_type": "error",
          "ename": "NameError",
          "evalue": "name 'url' is not defined",
          "traceback": [
            "\u001b[0;31m---------------------------------------------------------------------------\u001b[0m",
            "\u001b[0;31mNameError\u001b[0m                                 Traceback (most recent call last)",
            "\u001b[0;32m<ipython-input-22-61f9bf80dbc1>\u001b[0m in \u001b[0;36m<cell line: 0>\u001b[0;34m()\u001b[0m\n\u001b[0;32m----> 1\u001b[0;31m \u001b[0mdf\u001b[0m \u001b[0;34m=\u001b[0m \u001b[0mdownload_and_process_data\u001b[0m\u001b[0;34m(\u001b[0m\u001b[0murl\u001b[0m\u001b[0;34m,\u001b[0m\u001b[0msep\u001b[0m\u001b[0;34m=\u001b[0m\u001b[0;34m';'\u001b[0m\u001b[0;34m,\u001b[0m\u001b[0mencoding\u001b[0m\u001b[0;34m=\u001b[0m\u001b[0;34m'utf-8'\u001b[0m\u001b[0;34m,\u001b[0m \u001b[0mlow_memory\u001b[0m\u001b[0;34m=\u001b[0m\u001b[0;32mFalse\u001b[0m\u001b[0;34m)\u001b[0m\u001b[0;34m\u001b[0m\u001b[0;34m\u001b[0m\u001b[0m\n\u001b[0m\u001b[1;32m      2\u001b[0m \u001b[0mprint\u001b[0m\u001b[0;34m(\u001b[0m\u001b[0mdf\u001b[0m\u001b[0;34m[\u001b[0m\u001b[0;34m'event_date'\u001b[0m\u001b[0;34m]\u001b[0m\u001b[0;34m.\u001b[0m\u001b[0mhead\u001b[0m\u001b[0;34m(\u001b[0m\u001b[0;36m20\u001b[0m\u001b[0;34m)\u001b[0m\u001b[0;34m)\u001b[0m\u001b[0;34m\u001b[0m\u001b[0;34m\u001b[0m\u001b[0m\n",
            "\u001b[0;31mNameError\u001b[0m: name 'url' is not defined"
          ]
        }
      ]
    }
  ]
}